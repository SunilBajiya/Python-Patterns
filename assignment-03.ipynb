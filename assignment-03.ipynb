{
 "cells": [
  {
   "cell_type": "raw",
   "id": "afa54734-8c80-4793-aab4-58421eef8cdc",
   "metadata": {},
   "source": [
    "assignment-03"
   ]
  },
  {
   "cell_type": "code",
   "execution_count": 2,
   "id": "ab600942-7547-46a6-8164-bd39ba0701b4",
   "metadata": {},
   "outputs": [],
   "source": [
    "# # run the while loop 1 to infinate...\n",
    "# x=1\n",
    "# while True:\n",
    "#     print(\"printing the number infinates times  \",x)\n",
    "#     x= x+1"
   ]
  },
  {
   "cell_type": "markdown",
   "id": "e1f811d1-90ec-4cc6-bf96-dc9837513d79",
   "metadata": {},
   "source": [
    "Nested loop in python to try to print the star paramid, ractangel or other \n"
   ]
  },
  {
   "cell_type": "code",
   "execution_count": null,
   "id": "d37404c3-8878-4e5a-9823-fa8cb14e9fd0",
   "metadata": {},
   "outputs": [],
   "source": []
  },
  {
   "cell_type": "code",
   "execution_count": 3,
   "id": "705177b4-7079-424f-872f-794c69dc1d95",
   "metadata": {},
   "outputs": [
    {
     "name": "stdout",
     "output_type": "stream",
     "text": [
      "hello word"
     ]
    }
   ],
   "source": [
    "string = \"hello word\"\n",
    "for x in string:\n",
    "    print(x,end=\"\")"
   ]
  },
  {
   "cell_type": "code",
   "execution_count": 4,
   "id": "fd13357c-07a4-4671-abb2-5070ea4d598e",
   "metadata": {},
   "outputs": [],
   "source": [
    "for x in range(3):\n",
    "    if x==1:\n",
    "      break"
   ]
  },
  {
   "cell_type": "code",
   "execution_count": 5,
   "id": "a3707484-43e9-486f-9b4e-11a7e3bc6680",
   "metadata": {},
   "outputs": [
    {
     "name": "stdout",
     "output_type": "stream",
     "text": [
      "palindrom\n"
     ]
    }
   ],
   "source": [
    "#for loop iterat the list of list\n",
    "l= [1,2,3,2,1]\n",
    "s = l[::-1]\n",
    "if s==l:\n",
    "    print(\"palindrom\")\n",
    "else:\n",
    "    print(\"not palindrom\")\n"
   ]
  },
  {
   "cell_type": "markdown",
   "id": "ed891dbb-2ffb-4b91-b732-aa032c65a86a",
   "metadata": {},
   "source": []
  },
  {
   "cell_type": "markdown",
   "id": "d398edf1-b672-4599-94c4-78f8e52d6ad8",
   "metadata": {},
   "source": [
    " Write a program to print all natural numbers from 1 to n. – using while\n",
    "loop\n",
    "2. Write a program to print all natural numbers in reverse (from n to 1). –\n",
    "using while loop\n",
    "3. Write a program to print all alphabets from a to z. – using while loop\n",
    "4. Write a program to print all even numbers between 1 to 100. – using\n",
    "while loop\n",
    "5. Write a program to find the sum of all odd numbers between 1 to n.\n",
    "6. Write a program to count the number of digits in a number.\n",
    "7. Write a program to calculate the sum of digits of a number.\n",
    "8. Write a program to find the first and last digit of a number.\n",
    "9. Write a program to find the sum of first and last digit of a number.\n",
    "10.Write a program to enter a number and print its reverse.\n",
    "11.Write a program to find the power of a number using for loop.\n",
    "12.Write a program to find all factors of a number"
   ]
  },
  {
   "cell_type": "code",
   "execution_count": null,
   "id": "a08a3bc1-443c-4156-ab5b-c7705546628b",
   "metadata": {},
   "outputs": [],
   "source": []
  },
  {
   "cell_type": "code",
   "execution_count": null,
   "id": "48cfea33-36e1-421a-8673-b7ba788efe7f",
   "metadata": {
    "scrolled": true
   },
   "outputs": [],
   "source": []
  },
  {
   "cell_type": "code",
   "execution_count": 6,
   "id": "18eb01ad-095a-45b9-b740-9a6516cdffe6",
   "metadata": {},
   "outputs": [
    {
     "name": "stdout",
     "output_type": "stream",
     "text": [
      "0\n",
      "1\n",
      "2\n",
      "3\n",
      "4\n",
      "5\n"
     ]
    }
   ],
   "source": [
    "arr=[1,32,5,76,23,6]\n",
    "for i in range(0,len(arr)):\n",
    "    print(i)\n",
    "    "
   ]
  },
  {
   "cell_type": "code",
   "execution_count": 7,
   "id": "ea5d0c0e-18f0-4c54-8f57-355b6d3db2eb",
   "metadata": {},
   "outputs": [
    {
     "data": {
      "text/plain": [
       "1"
      ]
     },
     "execution_count": 7,
     "metadata": {},
     "output_type": "execute_result"
    }
   ],
   "source": [
    "12//10"
   ]
  },
  {
   "cell_type": "code",
   "execution_count": 8,
   "id": "88e07fae-f554-40eb-9e8c-679923b02ba9",
   "metadata": {},
   "outputs": [
    {
     "name": "stdout",
     "output_type": "stream",
     "text": [
      "hello\n"
     ]
    }
   ],
   "source": [
    "print(\"hello\")\n"
   ]
  },
  {
   "cell_type": "code",
   "execution_count": 9,
   "id": "546dc824-6ba1-4248-99ef-38617540c549",
   "metadata": {},
   "outputs": [
    {
     "data": {
      "text/plain": [
       "0"
      ]
     },
     "execution_count": 9,
     "metadata": {},
     "output_type": "execute_result"
    }
   ],
   "source": [
    "120%10"
   ]
  },
  {
   "cell_type": "code",
   "execution_count": 10,
   "id": "193dcdb3-8bbe-416b-8ca7-39ce13e9ec49",
   "metadata": {},
   "outputs": [
    {
     "ename": "SyntaxError",
     "evalue": "incomplete input (4016246359.py, line 3)",
     "output_type": "error",
     "traceback": [
      "\u001b[1;36m  Cell \u001b[1;32mIn[10], line 3\u001b[1;36m\u001b[0m\n\u001b[1;33m    while(num>0):\u001b[0m\n\u001b[1;37m                 ^\u001b[0m\n\u001b[1;31mSyntaxError\u001b[0m\u001b[1;31m:\u001b[0m incomplete input\n"
     ]
    }
   ],
   "source": [
    "# Write a program to find the sum of first and last digit of a number\n",
    "num = 1242543\n",
    "while(num>0):"
   ]
  },
  {
   "cell_type": "code",
   "execution_count": 11,
   "id": "309586cd-6381-4394-9f39-cb4cd3da9cce",
   "metadata": {},
   "outputs": [
    {
     "ename": "NameError",
     "evalue": "name 'count' is not defined",
     "output_type": "error",
     "traceback": [
      "\u001b[1;31m---------------------------------------------------------------------------\u001b[0m",
      "\u001b[1;31mNameError\u001b[0m                                 Traceback (most recent call last)",
      "Cell \u001b[1;32mIn[11], line 1\u001b[0m\n\u001b[1;32m----> 1\u001b[0m \u001b[43mcount\u001b[49m(\u001b[38;5;28mrange\u001b[39m(\u001b[38;5;241m3\u001b[39m))\n",
      "\u001b[1;31mNameError\u001b[0m: name 'count' is not defined"
     ]
    }
   ],
   "source": [
    "count(range(3))"
   ]
  },
  {
   "cell_type": "markdown",
   "id": "dbd9edce-30e7-4782-8cd3-620a82bdf0bc",
   "metadata": {},
   "source": [
    "#list datatype in python\n",
    "#  difference between == and is operator\n",
    "**== is equality operator and is is identity operator ==,=!=, is , is not\n",
    "ans- == operator is check the equlity of the two operante, which means to evalate the object is same, but is operator  ✅is check the based on their identy, if match exact same operator to return true else false return ............... x=[1,2,3] y=[1,2,3] for x is y: print-- true else: false\n",
    "# Call by value vs call by refernce\n",
    "both are used in parameter passing..\n",
    "call by value is technique where.. don't use the variable memory adderes and if you modify any varible.... has no effect of no the origina; value..\n",
    "call by refernce- is same turm that is work on the memory address... passing the varible in function , referance is passing the copy of real object....in function\n",
    "call by referanc is memory address is chnage if  you modified the referance object.....\n",
    "\n",
    "# What is namespace in python\n",
    "namespace has the uniq name of each and every  object in python\n",
    "banifites- code reuseability, uniqu name of each object\n",
    "example -\n",
    "\n",
    "built in names\n",
    "global names in a module\n",
    "local names in a function invocation\n",
    "The local names in a function invocation\n",
    "# difference between keyword and identifier\n",
    "keyword is reservord in python that is already define in python. keywords is fix name.. keyword is struct and construct the code ,like define the datatypes\n",
    ".. identifier is unique name created... is the modifiers name in python..but identifierd is used to namespaific define the class name object ...\n",
    "\n",
    "# What is PEP8\n",
    "python enachememt proposal.. in presents the some key point the make the code more origanizg and readable code.... \n",
    "goudo vaian rosam 1990 create the python \n",
    "# complete if-else assignment completely"
   ]
  },
  {
   "cell_type": "code",
   "execution_count": null,
   "id": "af173c0c-1b74-47dc-8218-58529c9b3718",
   "metadata": {},
   "outputs": [],
   "source": [
    "for i in range(1,5):\n",
    "    for j in range(1,7):\n",
    "        if (i==1 or i==4 or j==6 or j==1):\n",
    "            print(\"*\",end=\"\")\n",
    "        else:\n",
    "            print(\" \",end=\"\")\n",
    "    print(\"\\n\",end=\"\")"
   ]
  },
  {
   "cell_type": "code",
   "execution_count": null,
   "id": "deb7be43-8f84-4d23-be20-328ea7583f84",
   "metadata": {},
   "outputs": [],
   "source": [
    "for i in range(1,6):\n",
    "    for j in range(1,6):\n",
    "        if (i==j or i+j==5+1):\n",
    "            print(\"*\",end=\"\")\n",
    "        else:\n",
    "            print(\" \",end=\"\")\n",
    "    print(\"\\n\",end=\"\")"
   ]
  },
  {
   "cell_type": "code",
   "execution_count": null,
   "id": "5e550294-f5cc-43e1-a3df-6517e27c8707",
   "metadata": {},
   "outputs": [],
   "source": [
    "for i in range(1,6):\n",
    "    for j in range(1,6):\n",
    "        if (i==j or i+j==5+1 or i==1 or i==5):\n",
    "            print(\"*\",end=\"\")\n",
    "        else:\n",
    "            print(\" \",end=\"\")\n",
    "    print(\"\\n\",end=\"\")"
   ]
  },
  {
   "cell_type": "code",
   "execution_count": null,
   "id": "1d06e165-a6f1-493e-b9b2-bf7459eed7f5",
   "metadata": {},
   "outputs": [],
   "source": [
    "for i in range(1,6):\n",
    "    for j in range(0,2*i-1):  \n",
    "            print(\"*\",end=\"\")\n",
    "    print(\"\\n\",end=\"\")"
   ]
  },
  {
   "cell_type": "code",
   "execution_count": 12,
   "id": "a67706a2-4f43-4682-be73-8071c99117dc",
   "metadata": {},
   "outputs": [
    {
     "name": "stdout",
     "output_type": "stream",
     "text": [
      "                * * * * * \n",
      "\n",
      "              * * * * * \n",
      "\n",
      "            * * * * * \n",
      "\n",
      "          * * * * * \n",
      "\n",
      "        * * * * * \n",
      "\n",
      "      * * * * * \n",
      "\n",
      "        * * * * * \n",
      "\n",
      "          * * * * * \n",
      "\n",
      "            * * * * * \n",
      "\n",
      "              * * * * * \n",
      "\n"
     ]
    }
   ],
   "source": [
    "for i in range(1,6):\n",
    "    for s in range(5,i-4,-1):\n",
    "        print(\" \",end=\" \")\n",
    "    for j in range(1,6):\n",
    "        print(\"*\",end=\" \")\n",
    "    print(\"\\n\")\n",
    "\n",
    "for i in range(6,1,-1):\n",
    "    for s in range(5,i-4,-1):\n",
    "        print(\" \",end=\" \")\n",
    "    for j in range(1,6):\n",
    "        print(\"*\",end=\" \")\n",
    "    print(\"\\n\")"
   ]
  },
  {
   "cell_type": "code",
   "execution_count": 13,
   "id": "d41eec0b-8395-4ee1-9a36-ab5d3a33a712",
   "metadata": {},
   "outputs": [
    {
     "name": "stdout",
     "output_type": "stream",
     "text": [
      "D \n",
      "\n",
      "\n",
      "\n",
      "\n",
      "\n",
      "\n",
      "\n"
     ]
    }
   ],
   "source": [
    "x=68\n",
    "for i in range(1,5):\n",
    "    for j in range(1,i-1,-1):\n",
    "        print(chr(x),end=\" \")\n",
    "        x=x-1\n",
    "    print(\"\\n\")"
   ]
  },
  {
   "cell_type": "code",
   "execution_count": 14,
   "id": "cbf0d0ea-044b-48e0-b126-eb4b52364cb4",
   "metadata": {},
   "outputs": [
    {
     "data": {
      "text/plain": [
       "-4"
      ]
     },
     "execution_count": 14,
     "metadata": {},
     "output_type": "execute_result"
    }
   ],
   "source": [
    "~3"
   ]
  },
  {
   "cell_type": "code",
   "execution_count": 15,
   "id": "074fa9d1-e4bc-4b84-8c2d-1fe19813f64a",
   "metadata": {},
   "outputs": [
    {
     "name": "stdout",
     "output_type": "stream",
     "text": [
      "    *\n",
      "   **\n",
      "  ***\n",
      " ****\n",
      "*****\n"
     ]
    }
   ],
   "source": [
    "for i in range(1,6):\n",
    "    for s in range(5,i,-1):\n",
    "        print(\" \",end=\"\")\n",
    "    for j in range(0,i):\n",
    "        print(\"*\",end=\"\")\n",
    "    print(\"\\n\",end=\"\")\n",
    "  \n",
    "    \n",
    "    "
   ]
  },
  {
   "cell_type": "code",
   "execution_count": 16,
   "id": "651b964a-647d-4a6f-aa3e-521a119edf07",
   "metadata": {},
   "outputs": [
    {
     "name": "stdout",
     "output_type": "stream",
     "text": [
      "---* \n",
      "--* * \n",
      "-* * * \n",
      "* * * * \n"
     ]
    }
   ],
   "source": [
    "num=4\n",
    "for i in range(1,num+1):\n",
    "    for j in range(i,num):\n",
    "      print(\"-\",end=\"\")\n",
    "    for k in range(1,i+1):\n",
    "        print(\"*\",end=\" \")\n",
    "    print(\"\")"
   ]
  },
  {
   "cell_type": "code",
   "execution_count": 17,
   "id": "b40531be-40f4-4696-971b-bd5d1289e71f",
   "metadata": {},
   "outputs": [
    {
     "name": "stdout",
     "output_type": "stream",
     "text": [
      "---* \n",
      "--* * \n",
      "-* * * \n",
      "* * * * \n"
     ]
    }
   ],
   "source": [
    "num=4\n",
    "for i in range(1,num+1):\n",
    "    for j in range(i,num):\n",
    "      print(\"-\",end=\"\")\n",
    "    for k in range(1,i+1):\n",
    "        print(\"*\",end=\" \")\n",
    "    print(\"\")"
   ]
  },
  {
   "cell_type": "code",
   "execution_count": 18,
   "id": "c60bd619-6e25-4bd0-b013-162d8a2a6121",
   "metadata": {},
   "outputs": [
    {
     "name": "stdout",
     "output_type": "stream",
     "text": [
      "* * * * * \n",
      " * * * * \n",
      "  * * * \n",
      "   * * \n",
      "    * \n"
     ]
    }
   ],
   "source": [
    "num=6\n",
    "for i in range(num,1,-1):\n",
    "    for s in range(i,num):\n",
    "        print(\"\",end=\" \")\n",
    "    for j in range(1,i):\n",
    "        print(\"*\",end=\" \")\n",
    "    print(\"\")"
   ]
  },
  {
   "cell_type": "code",
   "execution_count": 19,
   "id": "0fde6ff5-9386-4432-a5f0-8c9dce6186ac",
   "metadata": {},
   "outputs": [
    {
     "name": "stdout",
     "output_type": "stream",
     "text": [
      "---*\n",
      "--***\n",
      "-*****\n",
      "*******\n",
      "*********\n"
     ]
    }
   ],
   "source": [
    "num=5\n",
    "count=1\n",
    "for i in range(1,num+1):\n",
    "    for j in range(i,4):\n",
    "        print(\"-\",end=\"\")\n",
    "    for k in range(1,count+1):\n",
    "        print(\"*\",end=\"\")\n",
    "    count+=2\n",
    "    print(\"\")"
   ]
  },
  {
   "cell_type": "code",
   "execution_count": 20,
   "id": "e5308107-6b65-402c-8d8b-20c82a21ad84",
   "metadata": {},
   "outputs": [
    {
     "name": "stdout",
     "output_type": "stream",
     "text": [
      "*********\n",
      "*******\n",
      "-*****\n",
      "--***\n",
      "---*\n"
     ]
    }
   ],
   "source": [
    "num=5\n",
    "for i in range(num,0,-1):\n",
    "    for j in range(i,4):\n",
    "        print(\"-\",end=\"\")\n",
    "    for k in range(1,2*i):\n",
    "        print(\"*\",end=\"\")\n",
    "    \n",
    "    print(\"\")"
   ]
  },
  {
   "cell_type": "code",
   "execution_count": 21,
   "id": "e2a55433-b015-40b5-92f9-b5892bbb8717",
   "metadata": {},
   "outputs": [
    {
     "name": "stdout",
     "output_type": "stream",
     "text": [
      "*****\n",
      "- *****\n",
      "- - *****\n",
      "- - - *****\n"
     ]
    }
   ],
   "source": [
    "num=5\n",
    "for i in range(num,1,-1):\n",
    "    for j in range(i-1,4):\n",
    "        print(\"-\",end=\" \")\n",
    "    for k in range(0,num):\n",
    "        print(\"*\",end=\"\")\n",
    "    \n",
    "    print(\"\")"
   ]
  },
  {
   "cell_type": "code",
   "execution_count": 22,
   "id": "5e59344c-2dce-4e61-b34c-7eef7ec58668",
   "metadata": {},
   "outputs": [
    {
     "name": "stdout",
     "output_type": "stream",
     "text": [
      "* \n",
      "* * \n",
      "*   * \n",
      "*     * \n",
      "*       * \n",
      "*         * \n",
      "* * * * * * * \n"
     ]
    }
   ],
   "source": [
    "num=7\n",
    "for i in range(1,num+1):\n",
    "    for j in range(1,i+1):\n",
    "        if(i==j or i==num or j==1):\n",
    "            print(\"*\",end=\" \")\n",
    "        else:\n",
    "            print(\" \",end=\" \")\n",
    "    print(\"\")"
   ]
  },
  {
   "cell_type": "code",
   "execution_count": 23,
   "id": "5280922a-5fc8-4b65-9de5-71ca301c75fb",
   "metadata": {},
   "outputs": [
    {
     "name": "stdout",
     "output_type": "stream",
     "text": [
      "* \n",
      "  * \n",
      "    * \n",
      "      * \n",
      "        * \n",
      "          * \n",
      "            * \n"
     ]
    }
   ],
   "source": [
    "num=7\n",
    "for i in range(1,num+1):\n",
    "    for j in range(1,i+1):\n",
    "        if(j==i):\n",
    "            print(\"*\",end=\" \")\n",
    "        else:\n",
    "            print(\" \",end=\" \")\n",
    "    print(\"\")"
   ]
  },
  {
   "cell_type": "code",
   "execution_count": 24,
   "id": "4cf753ec-f757-4c2a-9dbb-390de73b9a8c",
   "metadata": {},
   "outputs": [
    {
     "name": "stdout",
     "output_type": "stream",
     "text": [
      "*****\n",
      "    \n",
      "   \n",
      "  \n",
      " \n"
     ]
    }
   ],
   "source": [
    "num=5\n",
    "for i in range(1,num+1):\n",
    "    for j in range(i,num+1):\n",
    "        if(i==1 or j==1):\n",
    "            print(\"*\",end=\"\")\n",
    "        else:\n",
    "            print(\" \",end=\"\")\n",
    "    print(\"\")"
   ]
  },
  {
   "cell_type": "code",
   "execution_count": 25,
   "id": "14ce9f7f-3807-475f-bfe9-99a575d47639",
   "metadata": {},
   "outputs": [
    {
     "name": "stdout",
     "output_type": "stream",
     "text": [
      "* * * *  \n",
      "*  \n",
      " \n",
      " \n",
      " \n",
      "*  \n",
      " \n",
      " \n",
      " \n",
      "*  \n",
      " \n",
      " \n",
      " \n",
      "*  \n",
      " \n",
      " \n",
      " \n",
      "*  \n",
      " \n",
      " \n",
      " \n"
     ]
    }
   ],
   "source": [
    "for i in range(1,7):\n",
    "    for j in range(1,5):\n",
    "        if(i==1 or j==1):\n",
    "            print(\"*\",end=\" \")\n",
    "        else:\n",
    "            print(\" \")\n",
    "    print(\" \")"
   ]
  },
  {
   "cell_type": "code",
   "execution_count": 26,
   "id": "b6436222-e819-4133-a24e-de2cade9c995",
   "metadata": {},
   "outputs": [
    {
     "name": "stdout",
     "output_type": "stream",
     "text": [
      "* \n",
      "* * * \n",
      "* * * * * \n",
      " \n",
      "* * * * * * * \n",
      " \n",
      " \n",
      "* * * * * * * * * \n"
     ]
    }
   ],
   "source": [
    "for i in range(1,6):\n",
    "    for s in  range(3,i):\n",
    "        print(\" \")\n",
    "    for k in range(1,2*i):\n",
    "        print(\"*\",end=\" \")\n",
    "    print(\"\")\n",
    "    "
   ]
  },
  {
   "cell_type": "code",
   "execution_count": 27,
   "id": "f32974a5-82e2-4a60-a0c5-b3754f4d4a55",
   "metadata": {},
   "outputs": [
    {
     "name": "stdout",
     "output_type": "stream",
     "text": [
      "******\n",
      "*    *\n",
      "*    *\n",
      "******\n"
     ]
    }
   ],
   "source": [
    "for i in range(1,5):\n",
    "    for j in range(1,7):\n",
    "        if (i==1 or i==4 or j==6 or j==1):\n",
    "            print(\"*\",end=\"\")\n",
    "        else:\n",
    "            print(\" \",end=\"\")\n",
    "    print(\"\\n\",end=\"\")"
   ]
  },
  {
   "cell_type": "code",
   "execution_count": 28,
   "id": "b7e8eb1f-5f1d-4c03-8772-c262b18b5523",
   "metadata": {},
   "outputs": [
    {
     "name": "stdout",
     "output_type": "stream",
     "text": [
      "----*  \n",
      "---* *  \n",
      "--* * *  \n",
      "-* * * *  \n",
      "* * * * *  \n",
      "* * * * *  \n",
      "-* * * *  \n",
      "--* * *  \n",
      "---* *  \n",
      "----*  \n"
     ]
    }
   ],
   "source": [
    "for i in range(1,6):\n",
    "    for a in range(i,5):\n",
    "        print(\"-\",end= \"\")\n",
    "    for j in range(1,i+1):\n",
    "        print(\"*\",end=\" \")\n",
    "    print(\" \")\n",
    "for i in range(1,6):\n",
    "    for a in range(1,i):\n",
    "        print(\"-\",end= \"\")\n",
    "    for j in range(i,6):\n",
    "        print(\"*\",end=\" \")\n",
    "    print(\" \")"
   ]
  },
  {
   "cell_type": "code",
   "execution_count": 29,
   "id": "4acee6e9-e34d-45cf-9e57-bfb7e474b30a",
   "metadata": {},
   "outputs": [
    {
     "name": "stdout",
     "output_type": "stream",
     "text": [
      "----\n",
      "---\n",
      "--\n",
      "-\n"
     ]
    }
   ],
   "source": [
    "for i in range(1,5):\n",
    "    for j in range(i,5):\n",
    "        print(\"-\",end=\"\")\n",
    "    print(\"\")"
   ]
  },
  {
   "cell_type": "code",
   "execution_count": 30,
   "id": "182bdf7f-81be-416e-ab68-90177142fef7",
   "metadata": {},
   "outputs": [
    {
     "name": "stdout",
     "output_type": "stream",
     "text": [
      "****"
     ]
    }
   ],
   "source": [
    "for k in range(1,5):\n",
    "    print(\"*\",end=\"\")"
   ]
  },
  {
   "cell_type": "code",
   "execution_count": 31,
   "id": "2124973e-7e0b-4119-8d3d-a210739954b4",
   "metadata": {},
   "outputs": [
    {
     "name": "stdout",
     "output_type": "stream",
     "text": [
      "0 N 4 N\n",
      "1 A 3 A\n",
      "the string is palindrom Don't warry 😁\n"
     ]
    }
   ],
   "source": [
    "data =\"NAMAN\"\n",
    "start=0\n",
    "end= len(data)-1\n",
    "indicator=0\n",
    "while(start<end):\n",
    "    if(data[start] != data[end]):\n",
    "        indicator=1\n",
    "        break\n",
    "    print(start,data[start],end , data[end])\n",
    "    start +=1\n",
    "    end-=1\n",
    "if(indicator==1):\n",
    "    print(\"string is not palindrome\")\n",
    "else:\n",
    "    print(\"the string is palindrom Don't warry 😁\")"
   ]
  },
  {
   "cell_type": "code",
   "execution_count": 44,
   "id": "f8c689af-4762-4da6-b33c-de7fd391b713",
   "metadata": {},
   "outputs": [
    {
     "ename": "KeyboardInterrupt",
     "evalue": "",
     "output_type": "error",
     "traceback": [
      "\u001b[1;31m---------------------------------------------------------------------------\u001b[0m",
      "\u001b[1;31mKeyboardInterrupt\u001b[0m                         Traceback (most recent call last)",
      "Cell \u001b[1;32mIn[44], line 6\u001b[0m\n\u001b[0;32m      4\u001b[0m end\u001b[38;5;241m=\u001b[39m \u001b[38;5;28mlen\u001b[39m(data)\u001b[38;5;241m-\u001b[39m\u001b[38;5;241m1\u001b[39m\n\u001b[0;32m      5\u001b[0m indicator\u001b[38;5;241m=\u001b[39m\u001b[38;5;241m0\u001b[39m\n\u001b[1;32m----> 6\u001b[0m \u001b[38;5;28;01mwhile\u001b[39;00m(start\u001b[38;5;241m<\u001b[39mend):\n\u001b[0;32m      7\u001b[0m     \u001b[38;5;28;01mif\u001b[39;00m(data[start]\u001b[38;5;241m!=\u001b[39m data[end]):\n\u001b[0;32m      8\u001b[0m      \u001b[38;5;66;03m# indicator+=data\u001b[39;00m\n\u001b[0;32m      9\u001b[0m         indicator\u001b[38;5;241m=\u001b[39m\u001b[38;5;241m1\u001b[39m\n",
      "\u001b[1;31mKeyboardInterrupt\u001b[0m: "
     ]
    }
   ],
   "source": [
    "# the string in character who many time accures\n",
    "data = \"rajrt\"\n",
    "start=0\n",
    "end= len(data)-1\n",
    "indicator=0\n",
    "while(start<end):\n",
    "    if(data[start]!= data[end]):\n",
    "     # indicator+=data\n",
    "        indicator=1\n",
    "if(indicator==0):\n",
    "    print(\"value\",indicator) \n",
    "else:\n",
    "    print(\"total \",indicator)"
   ]
  },
  {
   "cell_type": "code",
   "execution_count": null,
   "id": "0af1e665-39c4-432b-9843-a72a1e6b4c78",
   "metadata": {},
   "outputs": [],
   "source": [
    "data = \"rajrt\"\n",
    "start=0\n",
    "end= len(data)-1\n",
    "count=1\n",
    "while(end>0):\n",
    "    if(data[start]== data[end]):\n",
    "      count+=1\n",
    "    end-=1\n",
    "print(count)"
   ]
  },
  {
   "cell_type": "markdown",
   "id": "00dcb82c-0c9b-4e7d-a5f3-e9978b6a3676",
   "metadata": {},
   "source": [
    "#LIST in python \n",
    "\n"
   ]
  },
  {
   "cell_type": "code",
   "execution_count": 34,
   "id": "a2052a47-3e76-4ce8-a99c-4bb6e9787e59",
   "metadata": {},
   "outputs": [
    {
     "name": "stdout",
     "output_type": "stream",
     "text": [
      "[123, 34, 21, 35, 12, 5, 234]\n"
     ]
    }
   ],
   "source": [
    "mylist=[123,34,21,35,12,5]\n",
    "mylist.append(234)\n",
    "print(mylist)"
   ]
  },
  {
   "cell_type": "code",
   "execution_count": 35,
   "id": "0efb5e60-8b35-4a7f-82d3-771ed982b573",
   "metadata": {},
   "outputs": [
    {
     "name": "stdout",
     "output_type": "stream",
     "text": [
      "[123, 21, 35, 12, 5] None\n"
     ]
    }
   ],
   "source": [
    "mylist=[123,34,21,35,12,5]\n",
    "d=mylist.remove(34)\n",
    "print(mylist,d)"
   ]
  },
  {
   "cell_type": "code",
   "execution_count": 36,
   "id": "a56cacbb-9ca8-4595-bd06-e9c68f6f671e",
   "metadata": {},
   "outputs": [
    {
     "name": "stdout",
     "output_type": "stream",
     "text": [
      "[123, 34, 21, 35, 12]\n"
     ]
    }
   ],
   "source": [
    "mylist=[123,34,21,35,12,5]\n",
    "mylist.pop()\n",
    "print(mylist)"
   ]
  },
  {
   "cell_type": "code",
   "execution_count": 37,
   "id": "e4518ff3-00e1-493f-b134-5220bec42198",
   "metadata": {},
   "outputs": [
    {
     "name": "stdout",
     "output_type": "stream",
     "text": [
      "[1234, 3, 352, 523]\n"
     ]
    }
   ],
   "source": [
    "myList=[124,34,1234,3,352,523]\n",
    "del myList[0:2]\n",
    "print(myList)"
   ]
  },
  {
   "cell_type": "code",
   "execution_count": null,
   "id": "7153fc5d-9505-4705-a200-2f631767aad6",
   "metadata": {},
   "outputs": [],
   "source": []
  },
  {
   "cell_type": "code",
   "execution_count": 38,
   "id": "82250744-ca26-484f-aee7-be714e143dec",
   "metadata": {},
   "outputs": [
    {
     "name": "stdout",
     "output_type": "stream",
     "text": [
      "2 10\n"
     ]
    }
   ],
   "source": [
    "a=10\n",
    "b=2\n",
    "a,b=b,a\n",
    "print(a,b)"
   ]
  },
  {
   "cell_type": "code",
   "execution_count": null,
   "id": "ebb63a16-d184-4cc4-b34f-fad103d3dca5",
   "metadata": {},
   "outputs": [],
   "source": []
  },
  {
   "cell_type": "code",
   "execution_count": 40,
   "id": "c7c27dbc-9834-417f-a29a-eebb680d050b",
   "metadata": {},
   "outputs": [
    {
     "name": "stdout",
     "output_type": "stream",
     "text": [
      "---1  \n",
      "--2 3  \n",
      "-4 5 6  \n",
      "7 8 9 10  \n"
     ]
    }
   ],
   "source": [
    "x=1\n",
    "for i in range(1,5):\n",
    "    for s in range(i,4):\n",
    "        print(\"-\",end=\"\")\n",
    "    for j in range(1,i+1):\n",
    "        print(x,end=\" \")\n",
    "        x+=1\n",
    "    print(\" \")"
   ]
  },
  {
   "cell_type": "code",
   "execution_count": null,
   "id": "d39df84a-4ed4-4e86-ace0-b3845a4afe5c",
   "metadata": {},
   "outputs": [],
   "source": []
  },
  {
   "cell_type": "code",
   "execution_count": 115,
   "id": "12a47c21-577a-4031-9cfd-62c2fde94809",
   "metadata": {},
   "outputs": [
    {
     "name": "stdout",
     "output_type": "stream",
     "text": [
      "---1 \n",
      "--122 \n",
      "-12332 \n",
      "1234432 \n"
     ]
    }
   ],
   "source": [
    "# paramid patterns\n",
    "for i in range(1,5):\n",
    "    for j in range(i,4):\n",
    "        print(\"-\",end=\"\")\n",
    "    for k in range(1,i+1):\n",
    "        print(k,end=\"\")\n",
    "    for  l in range(i,1,-1):\n",
    "        print(l,end=\"\")\n",
    "    print(\" \")\n",
    "   \n"
   ]
  },
  {
   "cell_type": "markdown",
   "id": "70a8be0d-67e9-4035-a5d9-2db15175187c",
   "metadata": {},
   "source": [
    "# for i  in range(1,4):\n",
    "    for s in range(i,0,-1):\n",
    "        print(s,end=\"\")\n",
    "    print(\" \")"
   ]
  },
  {
   "cell_type": "code",
   "execution_count": null,
   "id": "27985a27-1482-4e4b-bc67-bd26320be77e",
   "metadata": {},
   "outputs": [],
   "source": [
    "# holo dymand patterns \n"
   ]
  },
  {
   "cell_type": "code",
   "execution_count": 147,
   "id": "1c9d5a2c-1437-434c-94c5-9de2717cb4a6",
   "metadata": {},
   "outputs": [
    {
     "name": "stdout",
     "output_type": "stream",
     "text": [
      "----* *  \n",
      "---* *   -*      \n",
      "--*   *     --*          \n",
      "-*     *       ---*              \n"
     ]
    }
   ],
   "source": [
    "n=5\n",
    "for i in range(1,n):\n",
    "    for j in range(i,n):\n",
    "        print(\"-\",end=\"\")\n",
    "    for k in range(1,2*i):\n",
    "        if(k==i or k==1):\n",
    "            print(\"*\",end=\" \")\n",
    "        else:\n",
    "            print(\" \",end=\" \")\n",
    "    \n",
    "  \n",
    "    print(\" \")"
   ]
  },
  {
   "cell_type": "code",
   "execution_count": 136,
   "id": "eefc77fd-b74b-4652-8b30-0cac2bcc982b",
   "metadata": {},
   "outputs": [
    {
     "name": "stdout",
     "output_type": "stream",
     "text": [
      "*  \n",
      "-*      \n",
      "--*          \n",
      "---*              \n"
     ]
    }
   ],
   "source": [
    "n=5\n",
    "for i in range(1,n):\n",
    "    for j in range(1,i):\n",
    "        print(\"-\",end=\"\")\n",
    "    for k in range(1,2*i):\n",
    "        if(k==1 ):\n",
    "            print(\"*\",end=\" \")\n",
    "        else:\n",
    "            print(\" \",end=\" \")\n",
    "    print(\" \")"
   ]
  },
  {
   "cell_type": "code",
   "execution_count": 191,
   "id": "69e20eb1-999d-4323-a1fe-6f046cb9b280",
   "metadata": {},
   "outputs": [
    {
     "name": "stdout",
     "output_type": "stream",
     "text": [
      "* \n",
      "** \n",
      "*** \n",
      "**** \n",
      "***** \n",
      "****** \n",
      "******* \n",
      "******* \n",
      "****** \n",
      "***** \n",
      "**** \n",
      "*** \n",
      "** \n",
      "* \n",
      " \n",
      "-------* \n",
      "------** \n",
      "-----*** \n",
      "----**** \n",
      "---***** \n",
      "--****** \n",
      "-******* \n",
      "******** \n",
      "-******* \n",
      "--****** \n",
      "---***** \n",
      "----**** \n",
      "-----*** \n",
      "------** \n"
     ]
    }
   ],
   "source": [
    "n=8\n",
    "for i in range(1,n):\n",
    "   for j in range(1,i+1):\n",
    "       print(\"*\",end=\"\")\n",
    "   print(\" \")\n",
    "for j in range(n,1):\n",
    "       print(\"*\",end=\"\")\n",
    "for i in range(1,n):\n",
    "   for j in range(i,n):\n",
    "       print(\"*\",end=\"\")\n",
    "   print(\" \")\n",
    "for j in range(n,1):\n",
    "       print(\"*\",end=\"\")\n",
    "print(\" \")\n",
    "for i in range(1,n):\n",
    "    for j in range(i,n):\n",
    "        print(\"-\",end=\"\")\n",
    "    for k in range(1,i+1):\n",
    "        print(\"*\",end=\"\")\n",
    "    print(\" \")\n",
    "for i in range(1,n):\n",
    "    for j in range(1,i):\n",
    "        print(\"-\",end=\"\")\n",
    "    for k in range(i-1,n):\n",
    "        print(\"*\",end=\"\")\n",
    "    print(\" \")"
   ]
  },
  {
   "cell_type": "code",
   "execution_count": 185,
   "id": "6e96e050-f373-44ea-9b5f-bef960be9216",
   "metadata": {},
   "outputs": [
    {
     "name": "stdout",
     "output_type": "stream",
     "text": [
      "----* \n",
      "---** \n",
      "--*** \n",
      "-**** \n",
      "**** \n",
      "-*** \n",
      "--** \n",
      "---* \n"
     ]
    }
   ],
   "source": [
    "for i in range("
   ]
  },
  {
   "cell_type": "code",
   "execution_count": 179,
   "id": "c932ff3a-36e0-4c00-beab-b523e3812677",
   "metadata": {},
   "outputs": [
    {
     "name": "stdout",
     "output_type": "stream",
     "text": [
      "**** \n",
      "-*** \n",
      "--** \n",
      "---* \n"
     ]
    }
   ],
   "source": [
    "n=5\n",
    "for i in range(1,n):\n",
    "    for j in range(1,):\n",
    "        print(\"-\",end=\"\")\n",
    "    for k in range(i,n):\n",
    "        print(\"*\",end=\"\")\n",
    "    print(\" \")"
   ]
  },
  {
   "cell_type": "code",
   "execution_count": null,
   "id": "525ea1b4-6ce2-49e4-a8df-11d71753a70d",
   "metadata": {},
   "outputs": [],
   "source": []
  }
 ],
 "metadata": {
  "kernelspec": {
   "display_name": "Python 3 (ipykernel)",
   "language": "python",
   "name": "python3"
  },
  "language_info": {
   "codemirror_mode": {
    "name": "ipython",
    "version": 3
   },
   "file_extension": ".py",
   "mimetype": "text/x-python",
   "name": "python",
   "nbconvert_exporter": "python",
   "pygments_lexer": "ipython3",
   "version": "3.12.5"
  }
 },
 "nbformat": 4,
 "nbformat_minor": 5
}
